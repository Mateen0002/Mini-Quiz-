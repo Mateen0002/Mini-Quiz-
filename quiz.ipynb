{
 "cells": [
  {
   "cell_type": "code",
   "execution_count": 1,
   "id": "02de82d0-1e13-47ef-a71b-e166dc1a4196",
   "metadata": {},
   "outputs": [
    {
     "name": "stdout",
     "output_type": "stream",
     "text": [
      "--------------------\n",
      "How many elements are in the priodic table?:\n",
      "A. 116\n",
      "B. 117\n",
      "C. 118\n",
      "D. 119\n"
     ]
    },
    {
     "name": "stdin",
     "output_type": "stream",
     "text": [
      "Enter (A,B,C,D):  c\n"
     ]
    },
    {
     "name": "stdout",
     "output_type": "stream",
     "text": [
      "CORRECT!\n",
      "--------------------\n",
      "which animal lays the largest eggs?:\n",
      "A. while\n",
      "B. crocodile\n",
      "C. Elephant\n",
      "D. ostrich\n"
     ]
    },
    {
     "name": "stdin",
     "output_type": "stream",
     "text": [
      "Enter (A,B,C,D):  g\n"
     ]
    },
    {
     "name": "stdout",
     "output_type": "stream",
     "text": [
      "INCORRECT!\n",
      "D is the correct answer\n",
      "--------------------\n",
      "what is the most  aboundant gas  in earth's atomsphare?:\n",
      "A. Nitrogen\n",
      "B. oxygen\n",
      "C. carbon-dioxide\n",
      "D. Hydrogen\n"
     ]
    },
    {
     "name": "stdin",
     "output_type": "stream",
     "text": [
      "Enter (A,B,C,D):  b\n"
     ]
    },
    {
     "name": "stdout",
     "output_type": "stream",
     "text": [
      "INCORRECT!\n",
      "A is the correct answer\n",
      "--------------------\n",
      "How many bones ate in the human body?:\n",
      "A. 206\n",
      "B. 207\n",
      "C. 208\n",
      "D. 209\n"
     ]
    },
    {
     "name": "stdin",
     "output_type": "stream",
     "text": [
      "Enter (A,B,C,D):  a\n"
     ]
    },
    {
     "name": "stdout",
     "output_type": "stream",
     "text": [
      "CORRECT!\n",
      "--------------------\n",
      "which planet in the solar system is the hottest?:\n",
      "A. Mercure\n",
      "B. venus\n",
      "C. Earth\n",
      "D. Mars\n"
     ]
    },
    {
     "name": "stdin",
     "output_type": "stream",
     "text": [
      "Enter (A,B,C,D):  b\n"
     ]
    },
    {
     "name": "stdout",
     "output_type": "stream",
     "text": [
      "CORRECT!\n",
      "--------------------\n",
      "     RESULTS        \n",
      "--------------------\n",
      "Answers: C D A A B \n",
      "guesses: C G B A B \n",
      "your score is: {score}%\n"
     ]
    }
   ],
   "source": [
    "\n",
    "#python quiz game\n",
    "\n",
    "\n",
    "questions  =(\"How many elements are in the priodic table?:\",\n",
    "            \"which animal lays the largest eggs?:\",\n",
    "            \"what is the most  aboundant gas  in earth's atomsphare?:\",\n",
    "            \"How many bones ate in the human body?:\",\n",
    "            \"which planet in the solar system is the hottest?:\")\n",
    "\n",
    "options  = ((\"A. 116\", \"B. 117\", \"C. 118\", \"D. 119\"),\n",
    "           (\"A. while\", \"B. crocodile\", \"C. Elephant\", \"D. ostrich\"),\n",
    "           (\"A. Nitrogen\", \"B. oxygen\", \"C. carbon-dioxide\", \"D. Hydrogen\"),\n",
    "           (\"A. 206\", \"B. 207\", \"C. 208\", \"D. 209\"),\n",
    "           (\"A. Mercure\", \"B. venus\", \"C. Earth\", \"D. Mars\"))\n",
    "\n",
    "answers = (\"C\", \"D\", \"A\", \"A\", \"B\")\n",
    "guesses = []\n",
    "score = 0\n",
    "question_num = 0\n",
    "\n",
    "#Quiz loop\n",
    "for question in questions:\n",
    "    print(\"--------------------\")\n",
    "    print(question)\n",
    "    for option in options[question_num]:\n",
    "        print(option)\n",
    "\n",
    "    guess = input(\"Enter (A,B,C,D): \").upper()\n",
    "    guesses.append(guess)\n",
    "    \n",
    "    if guess == answers[question_num]:\n",
    "        score += 1\n",
    "        print(\"CORRECT!\")\n",
    "    else:\n",
    "        print(\"INCORRECT!\")\n",
    "        print(f\"{answers[question_num]} is the correct answer\")\n",
    "\n",
    "    \n",
    "    question_num  += 1\n",
    "\n",
    "#print results\n",
    "print(\"--------------------\")\n",
    "print(\"     RESULTS        \")\n",
    "print(\"--------------------\")\n",
    "\n",
    "print(\"Answers: \", end=\"\")\n",
    "for answer in answers:print(answer,end=\" \")\n",
    "print()\n",
    "\n",
    "print(\"guesses: \", end=\"\")\n",
    "for guess in guesses:\n",
    "    print(guess,end=\" \")\n",
    "print()\n",
    "\n",
    "\n",
    "#calculate and print percentage score\n",
    "score = int(score / len(question) * 100)\n",
    "print(\"your score is: {score}%\")\n",
    "    \n",
    "\n",
    "\n",
    "\n",
    "\n",
    "\n",
    "\n",
    "\n",
    "\n",
    "  "
   ]
  },
  {
   "cell_type": "code",
   "execution_count": null,
   "id": "0835fe4b-7c54-4c81-aff7-354a8e21c162",
   "metadata": {},
   "outputs": [],
   "source": []
  },
  {
   "cell_type": "code",
   "execution_count": null,
   "id": "bbefd03b-7699-4de7-a90d-943fa17135e1",
   "metadata": {},
   "outputs": [],
   "source": []
  },
  {
   "cell_type": "code",
   "execution_count": null,
   "id": "b23fe7db-72dc-4971-8ae0-69fe3bc8920d",
   "metadata": {},
   "outputs": [],
   "source": []
  },
  {
   "cell_type": "code",
   "execution_count": null,
   "id": "183e29d0-dd24-42bd-a3eb-3b3304b80027",
   "metadata": {},
   "outputs": [],
   "source": []
  }
 ],
 "metadata": {
  "kernelspec": {
   "display_name": "Python 3 (ipykernel)",
   "language": "python",
   "name": "python3"
  },
  "language_info": {
   "codemirror_mode": {
    "name": "ipython",
    "version": 3
   },
   "file_extension": ".py",
   "mimetype": "text/x-python",
   "name": "python",
   "nbconvert_exporter": "python",
   "pygments_lexer": "ipython3",
   "version": "3.12.4"
  }
 },
 "nbformat": 4,
 "nbformat_minor": 5
}
